{
 "cells": [
  {
   "cell_type": "code",
   "execution_count": 85,
   "id": "9ee48032-fe8f-4821-93c6-c28d5a7476e3",
   "metadata": {},
   "outputs": [],
   "source": [
    "import pandas as pd\n",
    "import seaborn as sns\n",
    "import matplotlib.pyplot as plt\n",
    "import numpy as np\n",
    "from sklearn import metrics"
   ]
  },
  {
   "cell_type": "code",
   "execution_count": 86,
   "id": "40b93f6e-e19f-47ca-81a4-bfb78600d48e",
   "metadata": {},
   "outputs": [],
   "source": [
    "df=pd.read_csv('train.csv')"
   ]
  },
  {
   "cell_type": "code",
   "execution_count": 87,
   "id": "0cf494b1-03e7-4470-bca1-80a3c16cf98c",
   "metadata": {},
   "outputs": [
    {
     "data": {
      "text/html": [
       "<div>\n",
       "<style scoped>\n",
       "    .dataframe tbody tr th:only-of-type {\n",
       "        vertical-align: middle;\n",
       "    }\n",
       "\n",
       "    .dataframe tbody tr th {\n",
       "        vertical-align: top;\n",
       "    }\n",
       "\n",
       "    .dataframe thead th {\n",
       "        text-align: right;\n",
       "    }\n",
       "</style>\n",
       "<table border=\"1\" class=\"dataframe\">\n",
       "  <thead>\n",
       "    <tr style=\"text-align: right;\">\n",
       "      <th></th>\n",
       "      <th>battery_power</th>\n",
       "      <th>blue</th>\n",
       "      <th>clock_speed</th>\n",
       "      <th>dual_sim</th>\n",
       "      <th>fc</th>\n",
       "      <th>four_g</th>\n",
       "      <th>int_memory</th>\n",
       "      <th>m_dep</th>\n",
       "      <th>mobile_wt</th>\n",
       "      <th>n_cores</th>\n",
       "      <th>...</th>\n",
       "      <th>px_height</th>\n",
       "      <th>px_width</th>\n",
       "      <th>ram</th>\n",
       "      <th>sc_h</th>\n",
       "      <th>sc_w</th>\n",
       "      <th>talk_time</th>\n",
       "      <th>three_g</th>\n",
       "      <th>touch_screen</th>\n",
       "      <th>wifi</th>\n",
       "      <th>price_range</th>\n",
       "    </tr>\n",
       "  </thead>\n",
       "  <tbody>\n",
       "    <tr>\n",
       "      <th>0</th>\n",
       "      <td>842</td>\n",
       "      <td>0</td>\n",
       "      <td>2.2</td>\n",
       "      <td>0</td>\n",
       "      <td>1</td>\n",
       "      <td>0</td>\n",
       "      <td>7</td>\n",
       "      <td>0.6</td>\n",
       "      <td>188</td>\n",
       "      <td>2</td>\n",
       "      <td>...</td>\n",
       "      <td>20</td>\n",
       "      <td>756</td>\n",
       "      <td>2549</td>\n",
       "      <td>9</td>\n",
       "      <td>7</td>\n",
       "      <td>19</td>\n",
       "      <td>0</td>\n",
       "      <td>0</td>\n",
       "      <td>1</td>\n",
       "      <td>1</td>\n",
       "    </tr>\n",
       "    <tr>\n",
       "      <th>1</th>\n",
       "      <td>1021</td>\n",
       "      <td>1</td>\n",
       "      <td>0.5</td>\n",
       "      <td>1</td>\n",
       "      <td>0</td>\n",
       "      <td>1</td>\n",
       "      <td>53</td>\n",
       "      <td>0.7</td>\n",
       "      <td>136</td>\n",
       "      <td>3</td>\n",
       "      <td>...</td>\n",
       "      <td>905</td>\n",
       "      <td>1988</td>\n",
       "      <td>2631</td>\n",
       "      <td>17</td>\n",
       "      <td>3</td>\n",
       "      <td>7</td>\n",
       "      <td>1</td>\n",
       "      <td>1</td>\n",
       "      <td>0</td>\n",
       "      <td>2</td>\n",
       "    </tr>\n",
       "    <tr>\n",
       "      <th>2</th>\n",
       "      <td>563</td>\n",
       "      <td>1</td>\n",
       "      <td>0.5</td>\n",
       "      <td>1</td>\n",
       "      <td>2</td>\n",
       "      <td>1</td>\n",
       "      <td>41</td>\n",
       "      <td>0.9</td>\n",
       "      <td>145</td>\n",
       "      <td>5</td>\n",
       "      <td>...</td>\n",
       "      <td>1263</td>\n",
       "      <td>1716</td>\n",
       "      <td>2603</td>\n",
       "      <td>11</td>\n",
       "      <td>2</td>\n",
       "      <td>9</td>\n",
       "      <td>1</td>\n",
       "      <td>1</td>\n",
       "      <td>0</td>\n",
       "      <td>2</td>\n",
       "    </tr>\n",
       "    <tr>\n",
       "      <th>3</th>\n",
       "      <td>615</td>\n",
       "      <td>1</td>\n",
       "      <td>2.5</td>\n",
       "      <td>0</td>\n",
       "      <td>0</td>\n",
       "      <td>0</td>\n",
       "      <td>10</td>\n",
       "      <td>0.8</td>\n",
       "      <td>131</td>\n",
       "      <td>6</td>\n",
       "      <td>...</td>\n",
       "      <td>1216</td>\n",
       "      <td>1786</td>\n",
       "      <td>2769</td>\n",
       "      <td>16</td>\n",
       "      <td>8</td>\n",
       "      <td>11</td>\n",
       "      <td>1</td>\n",
       "      <td>0</td>\n",
       "      <td>0</td>\n",
       "      <td>2</td>\n",
       "    </tr>\n",
       "    <tr>\n",
       "      <th>4</th>\n",
       "      <td>1821</td>\n",
       "      <td>1</td>\n",
       "      <td>1.2</td>\n",
       "      <td>0</td>\n",
       "      <td>13</td>\n",
       "      <td>1</td>\n",
       "      <td>44</td>\n",
       "      <td>0.6</td>\n",
       "      <td>141</td>\n",
       "      <td>2</td>\n",
       "      <td>...</td>\n",
       "      <td>1208</td>\n",
       "      <td>1212</td>\n",
       "      <td>1411</td>\n",
       "      <td>8</td>\n",
       "      <td>2</td>\n",
       "      <td>15</td>\n",
       "      <td>1</td>\n",
       "      <td>1</td>\n",
       "      <td>0</td>\n",
       "      <td>1</td>\n",
       "    </tr>\n",
       "    <tr>\n",
       "      <th>...</th>\n",
       "      <td>...</td>\n",
       "      <td>...</td>\n",
       "      <td>...</td>\n",
       "      <td>...</td>\n",
       "      <td>...</td>\n",
       "      <td>...</td>\n",
       "      <td>...</td>\n",
       "      <td>...</td>\n",
       "      <td>...</td>\n",
       "      <td>...</td>\n",
       "      <td>...</td>\n",
       "      <td>...</td>\n",
       "      <td>...</td>\n",
       "      <td>...</td>\n",
       "      <td>...</td>\n",
       "      <td>...</td>\n",
       "      <td>...</td>\n",
       "      <td>...</td>\n",
       "      <td>...</td>\n",
       "      <td>...</td>\n",
       "      <td>...</td>\n",
       "    </tr>\n",
       "    <tr>\n",
       "      <th>1995</th>\n",
       "      <td>794</td>\n",
       "      <td>1</td>\n",
       "      <td>0.5</td>\n",
       "      <td>1</td>\n",
       "      <td>0</td>\n",
       "      <td>1</td>\n",
       "      <td>2</td>\n",
       "      <td>0.8</td>\n",
       "      <td>106</td>\n",
       "      <td>6</td>\n",
       "      <td>...</td>\n",
       "      <td>1222</td>\n",
       "      <td>1890</td>\n",
       "      <td>668</td>\n",
       "      <td>13</td>\n",
       "      <td>4</td>\n",
       "      <td>19</td>\n",
       "      <td>1</td>\n",
       "      <td>1</td>\n",
       "      <td>0</td>\n",
       "      <td>0</td>\n",
       "    </tr>\n",
       "    <tr>\n",
       "      <th>1996</th>\n",
       "      <td>1965</td>\n",
       "      <td>1</td>\n",
       "      <td>2.6</td>\n",
       "      <td>1</td>\n",
       "      <td>0</td>\n",
       "      <td>0</td>\n",
       "      <td>39</td>\n",
       "      <td>0.2</td>\n",
       "      <td>187</td>\n",
       "      <td>4</td>\n",
       "      <td>...</td>\n",
       "      <td>915</td>\n",
       "      <td>1965</td>\n",
       "      <td>2032</td>\n",
       "      <td>11</td>\n",
       "      <td>10</td>\n",
       "      <td>16</td>\n",
       "      <td>1</td>\n",
       "      <td>1</td>\n",
       "      <td>1</td>\n",
       "      <td>2</td>\n",
       "    </tr>\n",
       "    <tr>\n",
       "      <th>1997</th>\n",
       "      <td>1911</td>\n",
       "      <td>0</td>\n",
       "      <td>0.9</td>\n",
       "      <td>1</td>\n",
       "      <td>1</td>\n",
       "      <td>1</td>\n",
       "      <td>36</td>\n",
       "      <td>0.7</td>\n",
       "      <td>108</td>\n",
       "      <td>8</td>\n",
       "      <td>...</td>\n",
       "      <td>868</td>\n",
       "      <td>1632</td>\n",
       "      <td>3057</td>\n",
       "      <td>9</td>\n",
       "      <td>1</td>\n",
       "      <td>5</td>\n",
       "      <td>1</td>\n",
       "      <td>1</td>\n",
       "      <td>0</td>\n",
       "      <td>3</td>\n",
       "    </tr>\n",
       "    <tr>\n",
       "      <th>1998</th>\n",
       "      <td>1512</td>\n",
       "      <td>0</td>\n",
       "      <td>0.9</td>\n",
       "      <td>0</td>\n",
       "      <td>4</td>\n",
       "      <td>1</td>\n",
       "      <td>46</td>\n",
       "      <td>0.1</td>\n",
       "      <td>145</td>\n",
       "      <td>5</td>\n",
       "      <td>...</td>\n",
       "      <td>336</td>\n",
       "      <td>670</td>\n",
       "      <td>869</td>\n",
       "      <td>18</td>\n",
       "      <td>10</td>\n",
       "      <td>19</td>\n",
       "      <td>1</td>\n",
       "      <td>1</td>\n",
       "      <td>1</td>\n",
       "      <td>0</td>\n",
       "    </tr>\n",
       "    <tr>\n",
       "      <th>1999</th>\n",
       "      <td>510</td>\n",
       "      <td>1</td>\n",
       "      <td>2.0</td>\n",
       "      <td>1</td>\n",
       "      <td>5</td>\n",
       "      <td>1</td>\n",
       "      <td>45</td>\n",
       "      <td>0.9</td>\n",
       "      <td>168</td>\n",
       "      <td>6</td>\n",
       "      <td>...</td>\n",
       "      <td>483</td>\n",
       "      <td>754</td>\n",
       "      <td>3919</td>\n",
       "      <td>19</td>\n",
       "      <td>4</td>\n",
       "      <td>2</td>\n",
       "      <td>1</td>\n",
       "      <td>1</td>\n",
       "      <td>1</td>\n",
       "      <td>3</td>\n",
       "    </tr>\n",
       "  </tbody>\n",
       "</table>\n",
       "<p>2000 rows × 21 columns</p>\n",
       "</div>"
      ],
      "text/plain": [
       "      battery_power  blue  clock_speed  dual_sim  fc  four_g  int_memory  \\\n",
       "0               842     0          2.2         0   1       0           7   \n",
       "1              1021     1          0.5         1   0       1          53   \n",
       "2               563     1          0.5         1   2       1          41   \n",
       "3               615     1          2.5         0   0       0          10   \n",
       "4              1821     1          1.2         0  13       1          44   \n",
       "...             ...   ...          ...       ...  ..     ...         ...   \n",
       "1995            794     1          0.5         1   0       1           2   \n",
       "1996           1965     1          2.6         1   0       0          39   \n",
       "1997           1911     0          0.9         1   1       1          36   \n",
       "1998           1512     0          0.9         0   4       1          46   \n",
       "1999            510     1          2.0         1   5       1          45   \n",
       "\n",
       "      m_dep  mobile_wt  n_cores  ...  px_height  px_width   ram  sc_h  sc_w  \\\n",
       "0       0.6        188        2  ...         20       756  2549     9     7   \n",
       "1       0.7        136        3  ...        905      1988  2631    17     3   \n",
       "2       0.9        145        5  ...       1263      1716  2603    11     2   \n",
       "3       0.8        131        6  ...       1216      1786  2769    16     8   \n",
       "4       0.6        141        2  ...       1208      1212  1411     8     2   \n",
       "...     ...        ...      ...  ...        ...       ...   ...   ...   ...   \n",
       "1995    0.8        106        6  ...       1222      1890   668    13     4   \n",
       "1996    0.2        187        4  ...        915      1965  2032    11    10   \n",
       "1997    0.7        108        8  ...        868      1632  3057     9     1   \n",
       "1998    0.1        145        5  ...        336       670   869    18    10   \n",
       "1999    0.9        168        6  ...        483       754  3919    19     4   \n",
       "\n",
       "      talk_time  three_g  touch_screen  wifi  price_range  \n",
       "0            19        0             0     1            1  \n",
       "1             7        1             1     0            2  \n",
       "2             9        1             1     0            2  \n",
       "3            11        1             0     0            2  \n",
       "4            15        1             1     0            1  \n",
       "...         ...      ...           ...   ...          ...  \n",
       "1995         19        1             1     0            0  \n",
       "1996         16        1             1     1            2  \n",
       "1997          5        1             1     0            3  \n",
       "1998         19        1             1     1            0  \n",
       "1999          2        1             1     1            3  \n",
       "\n",
       "[2000 rows x 21 columns]"
      ]
     },
     "execution_count": 87,
     "metadata": {},
     "output_type": "execute_result"
    }
   ],
   "source": [
    "df"
   ]
  },
  {
   "cell_type": "code",
   "execution_count": 88,
   "id": "1cf34f4c-3d36-44b0-9473-ae106d9cc530",
   "metadata": {},
   "outputs": [
    {
     "name": "stdout",
     "output_type": "stream",
     "text": [
      "<class 'pandas.core.frame.DataFrame'>\n",
      "RangeIndex: 2000 entries, 0 to 1999\n",
      "Data columns (total 21 columns):\n",
      " #   Column         Non-Null Count  Dtype  \n",
      "---  ------         --------------  -----  \n",
      " 0   battery_power  2000 non-null   int64  \n",
      " 1   blue           2000 non-null   int64  \n",
      " 2   clock_speed    2000 non-null   float64\n",
      " 3   dual_sim       2000 non-null   int64  \n",
      " 4   fc             2000 non-null   int64  \n",
      " 5   four_g         2000 non-null   int64  \n",
      " 6   int_memory     2000 non-null   int64  \n",
      " 7   m_dep          2000 non-null   float64\n",
      " 8   mobile_wt      2000 non-null   int64  \n",
      " 9   n_cores        2000 non-null   int64  \n",
      " 10  pc             2000 non-null   int64  \n",
      " 11  px_height      2000 non-null   int64  \n",
      " 12  px_width       2000 non-null   int64  \n",
      " 13  ram            2000 non-null   int64  \n",
      " 14  sc_h           2000 non-null   int64  \n",
      " 15  sc_w           2000 non-null   int64  \n",
      " 16  talk_time      2000 non-null   int64  \n",
      " 17  three_g        2000 non-null   int64  \n",
      " 18  touch_screen   2000 non-null   int64  \n",
      " 19  wifi           2000 non-null   int64  \n",
      " 20  price_range    2000 non-null   int64  \n",
      "dtypes: float64(2), int64(19)\n",
      "memory usage: 328.2 KB\n"
     ]
    }
   ],
   "source": [
    "df.info()"
   ]
  },
  {
   "cell_type": "code",
   "execution_count": 89,
   "id": "ca9e949b-b1e6-45b6-9a2e-3d35b7e139db",
   "metadata": {},
   "outputs": [],
   "source": [
    "x=df[['battery_power','int_memory','ram']]\n",
    "y=df['price_range']"
   ]
  },
  {
   "cell_type": "code",
   "execution_count": 90,
   "id": "9536ee3c-6e89-45ff-a8de-10e6f91b73b9",
   "metadata": {},
   "outputs": [],
   "source": [
    "from sklearn.model_selection import train_test_split"
   ]
  },
  {
   "cell_type": "code",
   "execution_count": 91,
   "id": "b3692b70-cbd7-4fb7-84f3-12ba769c968b",
   "metadata": {},
   "outputs": [],
   "source": [
    "x_train,x_test,y_train,y_test=train_test_split(x,y,test_size=0.33)"
   ]
  },
  {
   "cell_type": "markdown",
   "id": "3f061984-c866-4300-af3c-03bbb531a19c",
   "metadata": {},
   "source": [
    "KNN"
   ]
  },
  {
   "cell_type": "code",
   "execution_count": 92,
   "id": "34073788-cf09-4dc7-b074-031402ad3e93",
   "metadata": {},
   "outputs": [],
   "source": [
    "from sklearn.neighbors import KNeighborsClassifier"
   ]
  },
  {
   "cell_type": "code",
   "execution_count": 93,
   "id": "68b08a88-f5ee-4a83-b7f2-94ded0875c84",
   "metadata": {},
   "outputs": [],
   "source": [
    "knn=KNeighborsClassifier()"
   ]
  },
  {
   "cell_type": "code",
   "execution_count": 94,
   "id": "e3705ba1-8ddb-4056-adf6-7470bf04a9f3",
   "metadata": {},
   "outputs": [
    {
     "data": {
      "text/plain": [
       "KNeighborsClassifier()"
      ]
     },
     "execution_count": 94,
     "metadata": {},
     "output_type": "execute_result"
    }
   ],
   "source": [
    "knn.fit(x_train,y_train)"
   ]
  },
  {
   "cell_type": "code",
   "execution_count": 95,
   "id": "3caaa5ce-796b-4624-9ff2-9a70a6488c67",
   "metadata": {},
   "outputs": [],
   "source": [
    "prediction=knn.predict(x_test)"
   ]
  },
  {
   "cell_type": "code",
   "execution_count": 96,
   "id": "a663263f-7e94-4290-820b-9ddafac3d107",
   "metadata": {},
   "outputs": [],
   "source": [
    "from sklearn.metrics import classification_report"
   ]
  },
  {
   "cell_type": "code",
   "execution_count": 97,
   "id": "6a6fb985-6525-44d2-8c41-16f54f1d1d83",
   "metadata": {},
   "outputs": [
    {
     "name": "stdout",
     "output_type": "stream",
     "text": [
      "              precision    recall  f1-score   support\n",
      "\n",
      "           0       0.92      0.92      0.92       154\n",
      "           1       0.80      0.79      0.79       163\n",
      "           2       0.69      0.77      0.73       171\n",
      "           3       0.88      0.79      0.83       172\n",
      "\n",
      "    accuracy                           0.82       660\n",
      "   macro avg       0.82      0.82      0.82       660\n",
      "weighted avg       0.82      0.82      0.82       660\n",
      "\n"
     ]
    }
   ],
   "source": [
    "print(classification_report(y_test,prediction))"
   ]
  },
  {
   "cell_type": "code",
   "execution_count": 98,
   "id": "db601d9e-132e-4700-bb0f-25bb512728e9",
   "metadata": {},
   "outputs": [],
   "source": [
    "accuracy={}"
   ]
  },
  {
   "cell_type": "code",
   "execution_count": 99,
   "id": "6e33ebe0-6ae8-47e0-8e83-3a282c8dedda",
   "metadata": {},
   "outputs": [],
   "source": [
    "accuracy['knn(11)']=metrics.accuracy_score(y_test,prediction)"
   ]
  },
  {
   "cell_type": "markdown",
   "id": "9f54be1a-b28c-47c1-824e-9d986b1e1079",
   "metadata": {},
   "source": [
    "SVM"
   ]
  },
  {
   "cell_type": "code",
   "execution_count": 100,
   "id": "15b28e11-54b6-4acb-a3d5-1c1f16c5c3b2",
   "metadata": {},
   "outputs": [],
   "source": [
    "from sklearn.svm import SVC"
   ]
  },
  {
   "cell_type": "code",
   "execution_count": 101,
   "id": "697d5c3a-f959-4ef2-8c45-e73610aabb21",
   "metadata": {},
   "outputs": [],
   "source": [
    "gtm=SVC()"
   ]
  },
  {
   "cell_type": "code",
   "execution_count": 102,
   "id": "7d62492e-1349-43dc-bc66-b3c180086ad2",
   "metadata": {},
   "outputs": [
    {
     "data": {
      "text/plain": [
       "SVC()"
      ]
     },
     "execution_count": 102,
     "metadata": {},
     "output_type": "execute_result"
    }
   ],
   "source": [
    "gtm.fit(x_train,y_train)"
   ]
  },
  {
   "cell_type": "code",
   "execution_count": 103,
   "id": "2369d62f-b4da-4b63-8891-a031c9c33aa5",
   "metadata": {},
   "outputs": [],
   "source": [
    "prediction=gtm.predict(x_test)"
   ]
  },
  {
   "cell_type": "code",
   "execution_count": 104,
   "id": "5f74ead4-fad5-4294-a843-ff538cc51bef",
   "metadata": {
    "tags": []
   },
   "outputs": [
    {
     "name": "stdout",
     "output_type": "stream",
     "text": [
      "              precision    recall  f1-score   support\n",
      "\n",
      "           0       0.93      0.93      0.93       154\n",
      "           1       0.80      0.86      0.83       163\n",
      "           2       0.76      0.75      0.76       171\n",
      "           3       0.89      0.84      0.86       172\n",
      "\n",
      "    accuracy                           0.84       660\n",
      "   macro avg       0.85      0.84      0.84       660\n",
      "weighted avg       0.84      0.84      0.84       660\n",
      "\n"
     ]
    }
   ],
   "source": [
    "print(classification_report(y_test,prediction))"
   ]
  },
  {
   "cell_type": "code",
   "execution_count": 105,
   "id": "7d4399ee-508a-4e27-9b2e-0ebc547eb745",
   "metadata": {},
   "outputs": [],
   "source": [
    "from sklearn.metrics import confusion_matrix"
   ]
  },
  {
   "cell_type": "code",
   "execution_count": 106,
   "id": "997c5dfc-505b-4149-bf12-a8361bb61684",
   "metadata": {},
   "outputs": [
    {
     "name": "stdout",
     "output_type": "stream",
     "text": [
      "[[143  11   0   0]\n",
      " [ 11 140  12   0]\n",
      " [  0  25 129  17]\n",
      " [  0   0  28 144]]\n"
     ]
    }
   ],
   "source": [
    "print(confusion_matrix(y_test,prediction))"
   ]
  },
  {
   "cell_type": "code",
   "execution_count": 107,
   "id": "29f10b8d-5d3a-4ff7-8930-8e77a98263e5",
   "metadata": {},
   "outputs": [],
   "source": [
    "accuracy['SVC']=metrics.accuracy_score(y_test,prediction)"
   ]
  },
  {
   "cell_type": "markdown",
   "id": "c7f988bb-68d6-4226-9af0-1f62932883a4",
   "metadata": {},
   "source": [
    "DECISION TREE"
   ]
  },
  {
   "cell_type": "code",
   "execution_count": 108,
   "id": "a27ef416-6c31-4240-84b8-52069afc3d52",
   "metadata": {},
   "outputs": [],
   "source": [
    "from sklearn.tree import DecisionTreeClassifier"
   ]
  },
  {
   "cell_type": "code",
   "execution_count": 109,
   "id": "8816f060-6341-47db-b380-97c3b5114e98",
   "metadata": {},
   "outputs": [],
   "source": [
    "shoes=DecisionTreeClassifier()"
   ]
  },
  {
   "cell_type": "code",
   "execution_count": 110,
   "id": "66928b90-8599-4414-b5f9-e8a82dbafe32",
   "metadata": {},
   "outputs": [
    {
     "data": {
      "text/plain": [
       "DecisionTreeClassifier()"
      ]
     },
     "execution_count": 110,
     "metadata": {},
     "output_type": "execute_result"
    }
   ],
   "source": [
    "shoes.fit(x_train,y_train)"
   ]
  },
  {
   "cell_type": "code",
   "execution_count": 111,
   "id": "8f2375b2-aa9b-4e03-9fc4-d170081eaf60",
   "metadata": {},
   "outputs": [],
   "source": [
    "pred=shoes.predict(x_test)"
   ]
  },
  {
   "cell_type": "code",
   "execution_count": 112,
   "id": "814d3f6c-350a-48bf-9892-9f0c2b8f89e0",
   "metadata": {},
   "outputs": [
    {
     "name": "stdout",
     "output_type": "stream",
     "text": [
      "              precision    recall  f1-score   support\n",
      "\n",
      "           0       0.86      0.84      0.85       154\n",
      "           1       0.69      0.68      0.69       163\n",
      "           2       0.62      0.71      0.66       171\n",
      "           3       0.85      0.76      0.80       172\n",
      "\n",
      "    accuracy                           0.75       660\n",
      "   macro avg       0.76      0.75      0.75       660\n",
      "weighted avg       0.75      0.75      0.75       660\n",
      "\n"
     ]
    }
   ],
   "source": [
    "print(classification_report(y_test,pred))"
   ]
  },
  {
   "cell_type": "code",
   "execution_count": 113,
   "id": "b0d6fce6-ec7c-4e73-80cd-98a0b084fed8",
   "metadata": {},
   "outputs": [],
   "source": [
    "accuracy['DECISION TREE']=metrics.accuracy_score(y_test,prediction)"
   ]
  },
  {
   "cell_type": "markdown",
   "id": "4fca98b1-aac3-46a9-a35b-a8461bc5ce2d",
   "metadata": {},
   "source": [
    "RANDOM FOREST"
   ]
  },
  {
   "cell_type": "code",
   "execution_count": 114,
   "id": "503c31db-1e2d-4926-b68a-4d993d1249ca",
   "metadata": {},
   "outputs": [],
   "source": [
    "from sklearn.ensemble import RandomForestClassifier"
   ]
  },
  {
   "cell_type": "code",
   "execution_count": 115,
   "id": "66bd809b-356c-4f16-84d0-8146204b8f1c",
   "metadata": {},
   "outputs": [],
   "source": [
    "socks=RandomForestClassifier()"
   ]
  },
  {
   "cell_type": "code",
   "execution_count": 116,
   "id": "cef5f916-28bb-4684-98c7-a99012046cb4",
   "metadata": {},
   "outputs": [
    {
     "data": {
      "text/plain": [
       "RandomForestClassifier()"
      ]
     },
     "execution_count": 116,
     "metadata": {},
     "output_type": "execute_result"
    }
   ],
   "source": [
    "socks.fit(x_train,y_train)"
   ]
  },
  {
   "cell_type": "code",
   "execution_count": 117,
   "id": "81509034-c1de-41f9-b58e-6b6a83a283d1",
   "metadata": {},
   "outputs": [],
   "source": [
    "predictionz=socks.predict(x_test)"
   ]
  },
  {
   "cell_type": "code",
   "execution_count": 118,
   "id": "4c146967-2fdb-487a-a39c-fe048466e072",
   "metadata": {},
   "outputs": [
    {
     "name": "stdout",
     "output_type": "stream",
     "text": [
      "              precision    recall  f1-score   support\n",
      "\n",
      "           0       0.92      0.94      0.93       154\n",
      "           1       0.80      0.77      0.79       163\n",
      "           2       0.69      0.78      0.73       171\n",
      "           3       0.89      0.79      0.84       172\n",
      "\n",
      "    accuracy                           0.82       660\n",
      "   macro avg       0.83      0.82      0.82       660\n",
      "weighted avg       0.82      0.82      0.82       660\n",
      "\n"
     ]
    }
   ],
   "source": [
    "print(classification_report(y_test,predictionz))"
   ]
  },
  {
   "cell_type": "code",
   "execution_count": 119,
   "id": "d9abff68-c4b7-4213-ae5b-1d5633385667",
   "metadata": {},
   "outputs": [],
   "source": [
    "accuracy['RANDOM FOREST']=metrics.accuracy_score(y_test,prediction)"
   ]
  },
  {
   "cell_type": "markdown",
   "id": "0c8d7531-a456-42d3-a340-97a6a48b0a29",
   "metadata": {},
   "source": [
    "LOGISTIC REGRESSION"
   ]
  },
  {
   "cell_type": "code",
   "execution_count": 120,
   "id": "da0fc603-4a97-42cf-934d-6cfdb271ffda",
   "metadata": {},
   "outputs": [],
   "source": [
    "from sklearn.linear_model import LogisticRegression"
   ]
  },
  {
   "cell_type": "code",
   "execution_count": 121,
   "id": "ceb5a639-8f68-4497-a75e-c71d4940d736",
   "metadata": {},
   "outputs": [],
   "source": [
    "lr=LogisticRegression()"
   ]
  },
  {
   "cell_type": "code",
   "execution_count": 122,
   "id": "8b292c06-4d0d-42d2-a60c-fa6f8b3ed8f1",
   "metadata": {},
   "outputs": [
    {
     "name": "stderr",
     "output_type": "stream",
     "text": [
      "C:\\Users\\Dell\\Anaconda3\\lib\\site-packages\\sklearn\\linear_model\\_logistic.py:763: ConvergenceWarning: lbfgs failed to converge (status=1):\n",
      "STOP: TOTAL NO. of ITERATIONS REACHED LIMIT.\n",
      "\n",
      "Increase the number of iterations (max_iter) or scale the data as shown in:\n",
      "    https://scikit-learn.org/stable/modules/preprocessing.html\n",
      "Please also refer to the documentation for alternative solver options:\n",
      "    https://scikit-learn.org/stable/modules/linear_model.html#logistic-regression\n",
      "  n_iter_i = _check_optimize_result(\n"
     ]
    },
    {
     "data": {
      "text/plain": [
       "LogisticRegression()"
      ]
     },
     "execution_count": 122,
     "metadata": {},
     "output_type": "execute_result"
    }
   ],
   "source": [
    "lr.fit(x_train,y_train)"
   ]
  },
  {
   "cell_type": "code",
   "execution_count": 123,
   "id": "be4836b3-98db-44fd-a80d-040941e56874",
   "metadata": {},
   "outputs": [],
   "source": [
    "predict = lr.predict(x_test)"
   ]
  },
  {
   "cell_type": "code",
   "execution_count": 124,
   "id": "238ccdf9-f0a4-4d81-bfaf-a5a42d614c30",
   "metadata": {},
   "outputs": [
    {
     "name": "stdout",
     "output_type": "stream",
     "text": [
      "              precision    recall  f1-score   support\n",
      "\n",
      "           0       0.73      0.68      0.70       154\n",
      "           1       0.41      0.44      0.43       163\n",
      "           2       0.33      0.13      0.19       171\n",
      "           3       0.48      0.77      0.59       172\n",
      "\n",
      "    accuracy                           0.50       660\n",
      "   macro avg       0.49      0.50      0.48       660\n",
      "weighted avg       0.48      0.50      0.47       660\n",
      "\n"
     ]
    }
   ],
   "source": [
    "print(classification_report(y_test,predict))"
   ]
  },
  {
   "cell_type": "code",
   "execution_count": 125,
   "id": "f9f3db0b-bf94-4233-b024-146dd6278968",
   "metadata": {},
   "outputs": [],
   "source": [
    "accuracy['LOGISTIC REGRESSION']=metrics.accuracy_score(y_test,prediction)"
   ]
  },
  {
   "cell_type": "markdown",
   "id": "2ce688ea-5a47-49ad-b33c-bc6feb136363",
   "metadata": {},
   "source": [
    "ANN"
   ]
  },
  {
   "cell_type": "code",
   "execution_count": 126,
   "id": "ed5c1b20-a86d-4f8b-81fb-705ad1e0e9a5",
   "metadata": {},
   "outputs": [],
   "source": [
    "from tensorflow.keras.utils import to_categorical"
   ]
  },
  {
   "cell_type": "code",
   "execution_count": 127,
   "id": "2214ec2e-2a56-4e69-9b85-3933cf23f423",
   "metadata": {},
   "outputs": [
    {
     "data": {
      "text/plain": [
       "array([[0., 1., 0., 0.],\n",
       "       [0., 0., 1., 0.],\n",
       "       [0., 0., 1., 0.],\n",
       "       ...,\n",
       "       [0., 0., 0., 1.],\n",
       "       [1., 0., 0., 0.],\n",
       "       [0., 0., 0., 1.]], dtype=float32)"
      ]
     },
     "execution_count": 127,
     "metadata": {},
     "output_type": "execute_result"
    }
   ],
   "source": [
    "y_cat=to_categorical(y)\n",
    "y_cat"
   ]
  },
  {
   "cell_type": "code",
   "execution_count": 128,
   "id": "e1e24abb-318f-4342-9b66-f9bb092d7f09",
   "metadata": {},
   "outputs": [],
   "source": [
    "x_train,x_test,y_train,y_test=train_test_split(x,y_cat,test_size=0.33)"
   ]
  },
  {
   "cell_type": "code",
   "execution_count": 129,
   "id": "41b49237-96f3-4072-82ec-34ee9c3e5ec7",
   "metadata": {},
   "outputs": [],
   "source": [
    "from sklearn.preprocessing import MinMaxScaler"
   ]
  },
  {
   "cell_type": "code",
   "execution_count": 130,
   "id": "6b1bc107-8270-4807-bb91-c7b8d8382744",
   "metadata": {},
   "outputs": [],
   "source": [
    "scaler = MinMaxScaler()"
   ]
  },
  {
   "cell_type": "code",
   "execution_count": 131,
   "id": "a8e5ec4b-d578-4148-b60c-7e0c2d59ba73",
   "metadata": {},
   "outputs": [
    {
     "data": {
      "text/plain": [
       "MinMaxScaler()"
      ]
     },
     "execution_count": 131,
     "metadata": {},
     "output_type": "execute_result"
    }
   ],
   "source": [
    "scaler.fit(x_train)"
   ]
  },
  {
   "cell_type": "code",
   "execution_count": 132,
   "id": "006e479f-78c3-47dd-a89e-69cc9e2ba8cc",
   "metadata": {},
   "outputs": [],
   "source": [
    "x_train = scaler.transform(x_train)\n",
    "x_test = scaler.transform(x_test)"
   ]
  },
  {
   "cell_type": "code",
   "execution_count": 133,
   "id": "4f59e691-e678-4035-b578-92a4da572309",
   "metadata": {},
   "outputs": [],
   "source": [
    "from tensorflow.keras.models import Sequential\n",
    "from tensorflow.keras.layers import Dense, Dropout"
   ]
  },
  {
   "cell_type": "code",
   "execution_count": 134,
   "id": "da9891ec-f92a-4e14-bf06-e88cbad90f05",
   "metadata": {},
   "outputs": [],
   "source": [
    "from tensorflow.keras.callbacks import EarlyStopping"
   ]
  },
  {
   "cell_type": "code",
   "execution_count": 135,
   "id": "d3b441bd-4414-4a8d-9a70-2e148b3e5fff",
   "metadata": {},
   "outputs": [],
   "source": [
    "early_stop=EarlyStopping(patience=10)"
   ]
  },
  {
   "cell_type": "code",
   "execution_count": 136,
   "id": "c3878b74-d38e-449d-9629-c78af582c64a",
   "metadata": {},
   "outputs": [],
   "source": [
    "model = Sequential()"
   ]
  },
  {
   "cell_type": "code",
   "execution_count": null,
   "id": "e203776e-07f2-4f48-b4f6-40a88857f8c1",
   "metadata": {},
   "outputs": [],
   "source": []
  },
  {
   "cell_type": "code",
   "execution_count": 137,
   "id": "0a8b5519-3d64-44d6-8994-c4eadec5f71e",
   "metadata": {},
   "outputs": [],
   "source": [
    "model.add(Dense(20,activation='relu'))\n",
    "model.add(Dropout(0.5))\n",
    "\n",
    "model.add(Dense(10,activation='relu'))\n",
    "model.add(Dropout(0.5))\n",
    "model.add(Dense(10,activation='relu'))\n",
    "\n",
    "model.add(Dense(4,activation='softmax'))\n",
    "\n",
    "model.compile(loss='categorical_crossentropy',optimizer='adam',metrics=['accuracy'])"
   ]
  },
  {
   "cell_type": "code",
   "execution_count": 138,
   "id": "bb3954c9-406b-4cc0-9970-c351cb511b46",
   "metadata": {},
   "outputs": [
    {
     "data": {
      "text/plain": [
       "array([[0.86898396, 0.12903226, 0.11758418],\n",
       "       [0.08756684, 0.75806452, 0.88295029],\n",
       "       [0.63636364, 0.06451613, 0.27899519],\n",
       "       ...,\n",
       "       [0.78074866, 0.72580645, 0.1656868 ],\n",
       "       [0.38703209, 0.64516129, 0.5879209 ],\n",
       "       [0.22593583, 0.5       , 0.48530198]])"
      ]
     },
     "execution_count": 138,
     "metadata": {},
     "output_type": "execute_result"
    }
   ],
   "source": [
    "x_train"
   ]
  },
  {
   "cell_type": "code",
   "execution_count": 139,
   "id": "bc20deea-75a2-4cab-9bbe-2ec418830a84",
   "metadata": {},
   "outputs": [
    {
     "data": {
      "text/plain": [
       "<keras.callbacks.EarlyStopping at 0x15d5ec8d430>"
      ]
     },
     "execution_count": 139,
     "metadata": {},
     "output_type": "execute_result"
    }
   ],
   "source": [
    "early_stop"
   ]
  },
  {
   "cell_type": "code",
   "execution_count": 140,
   "id": "19f78d0f-bd13-4a9b-afda-17d9af14cfdf",
   "metadata": {},
   "outputs": [
    {
     "name": "stdout",
     "output_type": "stream",
     "text": [
      "Epoch 1/400\n",
      "42/42 [==============================] - 2s 11ms/step - loss: 1.3793 - accuracy: 0.2716 - val_loss: 1.3779 - val_accuracy: 0.2303\n",
      "Epoch 2/400\n",
      "42/42 [==============================] - 0s 5ms/step - loss: 1.3701 - accuracy: 0.2672 - val_loss: 1.3707 - val_accuracy: 0.2773\n",
      "Epoch 3/400\n",
      "42/42 [==============================] - 0s 5ms/step - loss: 1.3591 - accuracy: 0.2784 - val_loss: 1.3582 - val_accuracy: 0.3727\n",
      "Epoch 4/400\n",
      "42/42 [==============================] - 0s 9ms/step - loss: 1.3445 - accuracy: 0.3119 - val_loss: 1.3262 - val_accuracy: 0.3758\n",
      "Epoch 5/400\n",
      "42/42 [==============================] - 0s 7ms/step - loss: 1.3091 - accuracy: 0.3388 - val_loss: 1.2786 - val_accuracy: 0.4864\n",
      "Epoch 6/400\n",
      "42/42 [==============================] - 0s 10ms/step - loss: 1.2680 - accuracy: 0.3933 - val_loss: 1.2117 - val_accuracy: 0.4773\n",
      "Epoch 7/400\n",
      "42/42 [==============================] - 1s 13ms/step - loss: 1.2394 - accuracy: 0.4127 - val_loss: 1.1573 - val_accuracy: 0.5106\n",
      "Epoch 8/400\n",
      "42/42 [==============================] - 0s 10ms/step - loss: 1.1933 - accuracy: 0.4455 - val_loss: 1.0980 - val_accuracy: 0.5439\n",
      "Epoch 9/400\n",
      "42/42 [==============================] - 0s 11ms/step - loss: 1.1380 - accuracy: 0.4642 - val_loss: 1.0326 - val_accuracy: 0.5409\n",
      "Epoch 10/400\n",
      "42/42 [==============================] - 0s 9ms/step - loss: 1.0926 - accuracy: 0.4910 - val_loss: 0.9768 - val_accuracy: 0.5561\n",
      "Epoch 11/400\n",
      "42/42 [==============================] - 0s 11ms/step - loss: 1.0625 - accuracy: 0.4896 - val_loss: 0.9369 - val_accuracy: 0.6061\n",
      "Epoch 12/400\n",
      "42/42 [==============================] - 0s 8ms/step - loss: 1.0343 - accuracy: 0.5201 - val_loss: 0.8988 - val_accuracy: 0.6379\n",
      "Epoch 13/400\n",
      "42/42 [==============================] - 0s 8ms/step - loss: 0.9926 - accuracy: 0.5328 - val_loss: 0.8597 - val_accuracy: 0.6182\n",
      "Epoch 14/400\n",
      "42/42 [==============================] - 0s 10ms/step - loss: 0.9673 - accuracy: 0.5545 - val_loss: 0.8307 - val_accuracy: 0.6348\n",
      "Epoch 15/400\n",
      "42/42 [==============================] - 0s 7ms/step - loss: 0.9450 - accuracy: 0.5590 - val_loss: 0.8067 - val_accuracy: 0.6727\n",
      "Epoch 16/400\n",
      "42/42 [==============================] - 0s 7ms/step - loss: 0.9179 - accuracy: 0.5799 - val_loss: 0.7782 - val_accuracy: 0.7485\n",
      "Epoch 17/400\n",
      "42/42 [==============================] - 0s 7ms/step - loss: 0.9130 - accuracy: 0.5731 - val_loss: 0.7546 - val_accuracy: 0.7591\n",
      "Epoch 18/400\n",
      "42/42 [==============================] - 0s 5ms/step - loss: 0.8787 - accuracy: 0.6082 - val_loss: 0.7294 - val_accuracy: 0.7576\n",
      "Epoch 19/400\n",
      "42/42 [==============================] - 0s 6ms/step - loss: 0.8568 - accuracy: 0.6299 - val_loss: 0.7095 - val_accuracy: 0.7758\n",
      "Epoch 20/400\n",
      "42/42 [==============================] - 0s 8ms/step - loss: 0.8459 - accuracy: 0.6060 - val_loss: 0.7031 - val_accuracy: 0.7955\n",
      "Epoch 21/400\n",
      "42/42 [==============================] - 0s 8ms/step - loss: 0.8272 - accuracy: 0.6358 - val_loss: 0.6857 - val_accuracy: 0.8000\n",
      "Epoch 22/400\n",
      "42/42 [==============================] - 0s 7ms/step - loss: 0.8051 - accuracy: 0.6254 - val_loss: 0.6611 - val_accuracy: 0.7712\n",
      "Epoch 23/400\n",
      "42/42 [==============================] - 0s 8ms/step - loss: 0.8053 - accuracy: 0.6284 - val_loss: 0.6474 - val_accuracy: 0.8061\n",
      "Epoch 24/400\n",
      "42/42 [==============================] - 0s 9ms/step - loss: 0.8185 - accuracy: 0.6343 - val_loss: 0.6325 - val_accuracy: 0.8106\n",
      "Epoch 25/400\n",
      "42/42 [==============================] - 0s 9ms/step - loss: 0.7914 - accuracy: 0.6433 - val_loss: 0.6375 - val_accuracy: 0.8045\n",
      "Epoch 26/400\n",
      "42/42 [==============================] - 0s 7ms/step - loss: 0.7868 - accuracy: 0.6485 - val_loss: 0.6334 - val_accuracy: 0.7879\n",
      "Epoch 27/400\n",
      "42/42 [==============================] - 0s 5ms/step - loss: 0.7658 - accuracy: 0.6619 - val_loss: 0.6158 - val_accuracy: 0.8152\n",
      "Epoch 28/400\n",
      "42/42 [==============================] - 0s 5ms/step - loss: 0.7690 - accuracy: 0.6664 - val_loss: 0.6142 - val_accuracy: 0.8015\n",
      "Epoch 29/400\n",
      "42/42 [==============================] - 0s 8ms/step - loss: 0.7342 - accuracy: 0.6425 - val_loss: 0.5869 - val_accuracy: 0.8045\n",
      "Epoch 30/400\n",
      "42/42 [==============================] - 0s 9ms/step - loss: 0.7508 - accuracy: 0.6642 - val_loss: 0.5993 - val_accuracy: 0.8076\n",
      "Epoch 31/400\n",
      "42/42 [==============================] - 0s 9ms/step - loss: 0.7850 - accuracy: 0.6216 - val_loss: 0.5989 - val_accuracy: 0.7985\n",
      "Epoch 32/400\n",
      "42/42 [==============================] - 0s 10ms/step - loss: 0.7266 - accuracy: 0.6709 - val_loss: 0.5817 - val_accuracy: 0.8182\n",
      "Epoch 33/400\n",
      "42/42 [==============================] - 0s 9ms/step - loss: 0.7628 - accuracy: 0.6545 - val_loss: 0.6041 - val_accuracy: 0.7833\n",
      "Epoch 34/400\n",
      "42/42 [==============================] - 0s 8ms/step - loss: 0.7311 - accuracy: 0.6746 - val_loss: 0.5846 - val_accuracy: 0.7939\n",
      "Epoch 35/400\n",
      "42/42 [==============================] - 0s 7ms/step - loss: 0.7205 - accuracy: 0.6724 - val_loss: 0.5702 - val_accuracy: 0.8136\n",
      "Epoch 36/400\n",
      "42/42 [==============================] - 0s 8ms/step - loss: 0.7063 - accuracy: 0.6649 - val_loss: 0.5643 - val_accuracy: 0.8242\n",
      "Epoch 37/400\n",
      "42/42 [==============================] - 0s 9ms/step - loss: 0.7475 - accuracy: 0.6657 - val_loss: 0.5850 - val_accuracy: 0.7742\n",
      "Epoch 38/400\n",
      "42/42 [==============================] - 0s 8ms/step - loss: 0.7308 - accuracy: 0.6784 - val_loss: 0.5680 - val_accuracy: 0.8030\n",
      "Epoch 39/400\n",
      "42/42 [==============================] - 0s 10ms/step - loss: 0.7374 - accuracy: 0.6858 - val_loss: 0.5532 - val_accuracy: 0.8394\n",
      "Epoch 40/400\n",
      "42/42 [==============================] - 0s 8ms/step - loss: 0.7020 - accuracy: 0.6821 - val_loss: 0.5683 - val_accuracy: 0.7955\n",
      "Epoch 41/400\n",
      "42/42 [==============================] - 0s 9ms/step - loss: 0.7142 - accuracy: 0.6791 - val_loss: 0.5588 - val_accuracy: 0.8212\n",
      "Epoch 42/400\n",
      "42/42 [==============================] - 0s 8ms/step - loss: 0.6983 - accuracy: 0.6925 - val_loss: 0.5684 - val_accuracy: 0.7803\n",
      "Epoch 43/400\n",
      "42/42 [==============================] - 0s 7ms/step - loss: 0.7021 - accuracy: 0.6933 - val_loss: 0.5450 - val_accuracy: 0.8303\n",
      "Epoch 44/400\n",
      "42/42 [==============================] - 0s 7ms/step - loss: 0.6946 - accuracy: 0.6784 - val_loss: 0.5454 - val_accuracy: 0.8273\n",
      "Epoch 45/400\n",
      "42/42 [==============================] - 0s 6ms/step - loss: 0.6765 - accuracy: 0.7127 - val_loss: 0.5519 - val_accuracy: 0.8000\n",
      "Epoch 46/400\n",
      "42/42 [==============================] - 0s 5ms/step - loss: 0.6879 - accuracy: 0.6925 - val_loss: 0.5388 - val_accuracy: 0.8273\n",
      "Epoch 47/400\n",
      "42/42 [==============================] - 0s 5ms/step - loss: 0.6703 - accuracy: 0.7216 - val_loss: 0.5376 - val_accuracy: 0.8167\n",
      "Epoch 48/400\n",
      "42/42 [==============================] - 0s 5ms/step - loss: 0.6985 - accuracy: 0.6993 - val_loss: 0.5505 - val_accuracy: 0.7924\n",
      "Epoch 49/400\n",
      "42/42 [==============================] - 0s 6ms/step - loss: 0.6758 - accuracy: 0.6970 - val_loss: 0.5379 - val_accuracy: 0.8106\n",
      "Epoch 50/400\n",
      "42/42 [==============================] - 0s 6ms/step - loss: 0.6925 - accuracy: 0.6888 - val_loss: 0.5515 - val_accuracy: 0.7955\n",
      "Epoch 51/400\n",
      "42/42 [==============================] - 0s 5ms/step - loss: 0.6698 - accuracy: 0.7067 - val_loss: 0.5267 - val_accuracy: 0.8333\n",
      "Epoch 52/400\n",
      "42/42 [==============================] - 0s 6ms/step - loss: 0.6698 - accuracy: 0.7052 - val_loss: 0.5363 - val_accuracy: 0.8076\n",
      "Epoch 53/400\n",
      "42/42 [==============================] - 0s 6ms/step - loss: 0.6713 - accuracy: 0.7097 - val_loss: 0.5452 - val_accuracy: 0.7924\n",
      "Epoch 54/400\n",
      "42/42 [==============================] - 0s 6ms/step - loss: 0.6790 - accuracy: 0.7112 - val_loss: 0.5370 - val_accuracy: 0.8015\n",
      "Epoch 55/400\n",
      "42/42 [==============================] - 0s 7ms/step - loss: 0.6747 - accuracy: 0.7112 - val_loss: 0.5472 - val_accuracy: 0.7909\n",
      "Epoch 56/400\n",
      "42/42 [==============================] - 0s 7ms/step - loss: 0.6748 - accuracy: 0.7134 - val_loss: 0.5279 - val_accuracy: 0.8197\n",
      "Epoch 57/400\n",
      "42/42 [==============================] - 0s 7ms/step - loss: 0.6601 - accuracy: 0.7127 - val_loss: 0.5278 - val_accuracy: 0.8121\n",
      "Epoch 58/400\n",
      "42/42 [==============================] - 0s 7ms/step - loss: 0.6780 - accuracy: 0.7015 - val_loss: 0.5308 - val_accuracy: 0.8030\n",
      "Epoch 59/400\n",
      "42/42 [==============================] - 0s 7ms/step - loss: 0.6495 - accuracy: 0.7269 - val_loss: 0.5487 - val_accuracy: 0.7455\n",
      "Epoch 60/400\n",
      "42/42 [==============================] - 0s 7ms/step - loss: 0.6631 - accuracy: 0.6985 - val_loss: 0.5267 - val_accuracy: 0.8015\n",
      "Epoch 61/400\n",
      "42/42 [==============================] - 0s 7ms/step - loss: 0.6364 - accuracy: 0.7209 - val_loss: 0.5298 - val_accuracy: 0.7985\n"
     ]
    },
    {
     "data": {
      "text/plain": [
       "<keras.callbacks.History at 0x15d5ecdbbe0>"
      ]
     },
     "execution_count": 140,
     "metadata": {},
     "output_type": "execute_result"
    }
   ],
   "source": [
    "model.fit(x_train, y_train, epochs = 400, validation_data=(x_test, y_test),callbacks=[early_stop])"
   ]
  },
  {
   "cell_type": "code",
   "execution_count": 141,
   "id": "2f4b8197-f016-422b-932e-2a9b31b4e7b0",
   "metadata": {},
   "outputs": [],
   "source": [
    "loss_df = pd.DataFrame(model.history.history)"
   ]
  },
  {
   "cell_type": "code",
   "execution_count": 142,
   "id": "e4ebbcbe-75e3-4cdf-97c8-e8baf0ddf32b",
   "metadata": {},
   "outputs": [
    {
     "name": "stdout",
     "output_type": "stream",
     "text": [
      "21/21 [==============================] - 0s 3ms/step\n"
     ]
    }
   ],
   "source": [
    "predictions = model.predict(x_test)"
   ]
  },
  {
   "cell_type": "code",
   "execution_count": 143,
   "id": "a6031253-802c-4fc1-bcf9-eb9cb4388a86",
   "metadata": {},
   "outputs": [],
   "source": [
    "final_predictions=np.argmax(predictions,axis=1)"
   ]
  },
  {
   "cell_type": "code",
   "execution_count": 144,
   "id": "5e53a085-c0de-4605-bf69-378db7107021",
   "metadata": {},
   "outputs": [],
   "source": [
    "true_y=np.argmax(y_test,axis=1)"
   ]
  },
  {
   "cell_type": "code",
   "execution_count": 145,
   "id": "7fd26c09-10fb-4adc-85d3-87303f7b7ddb",
   "metadata": {},
   "outputs": [
    {
     "name": "stdout",
     "output_type": "stream",
     "text": [
      "              precision    recall  f1-score   support\n",
      "\n",
      "           0       0.85      0.96      0.90       167\n",
      "           1       0.80      0.75      0.78       175\n",
      "           2       0.66      0.84      0.74       164\n",
      "           3       1.00      0.63      0.77       154\n",
      "\n",
      "    accuracy                           0.80       660\n",
      "   macro avg       0.83      0.80      0.80       660\n",
      "weighted avg       0.82      0.80      0.80       660\n",
      "\n"
     ]
    }
   ],
   "source": [
    "print(classification_report(true_y,final_predictions))"
   ]
  },
  {
   "cell_type": "code",
   "execution_count": 146,
   "id": "00343ac4-ba62-42b3-8071-43df10bad685",
   "metadata": {},
   "outputs": [],
   "source": [
    "accuracy['ANN']=metrics.accuracy_score(true_y,final_predictions)"
   ]
  },
  {
   "cell_type": "code",
   "execution_count": 147,
   "id": "7f40f187-20d5-4a9c-879b-6d500766fe90",
   "metadata": {},
   "outputs": [],
   "source": [
    "model.save('model.h5')"
   ]
  },
  {
   "cell_type": "code",
   "execution_count": 148,
   "id": "f5312f0d-0240-4366-9f62-361df17f4875",
   "metadata": {},
   "outputs": [
    {
     "data": {
      "text/html": [
       "<div>\n",
       "<style scoped>\n",
       "    .dataframe tbody tr th:only-of-type {\n",
       "        vertical-align: middle;\n",
       "    }\n",
       "\n",
       "    .dataframe tbody tr th {\n",
       "        vertical-align: top;\n",
       "    }\n",
       "\n",
       "    .dataframe thead th {\n",
       "        text-align: right;\n",
       "    }\n",
       "</style>\n",
       "<table border=\"1\" class=\"dataframe\">\n",
       "  <thead>\n",
       "    <tr style=\"text-align: right;\">\n",
       "      <th></th>\n",
       "      <th>loss</th>\n",
       "      <th>accuracy</th>\n",
       "      <th>val_loss</th>\n",
       "      <th>val_accuracy</th>\n",
       "    </tr>\n",
       "  </thead>\n",
       "  <tbody>\n",
       "    <tr>\n",
       "      <th>0</th>\n",
       "      <td>1.379264</td>\n",
       "      <td>0.271642</td>\n",
       "      <td>1.377903</td>\n",
       "      <td>0.230303</td>\n",
       "    </tr>\n",
       "    <tr>\n",
       "      <th>1</th>\n",
       "      <td>1.370111</td>\n",
       "      <td>0.267164</td>\n",
       "      <td>1.370713</td>\n",
       "      <td>0.277273</td>\n",
       "    </tr>\n",
       "    <tr>\n",
       "      <th>2</th>\n",
       "      <td>1.359130</td>\n",
       "      <td>0.278358</td>\n",
       "      <td>1.358236</td>\n",
       "      <td>0.372727</td>\n",
       "    </tr>\n",
       "    <tr>\n",
       "      <th>3</th>\n",
       "      <td>1.344459</td>\n",
       "      <td>0.311940</td>\n",
       "      <td>1.326196</td>\n",
       "      <td>0.375758</td>\n",
       "    </tr>\n",
       "    <tr>\n",
       "      <th>4</th>\n",
       "      <td>1.309090</td>\n",
       "      <td>0.338806</td>\n",
       "      <td>1.278592</td>\n",
       "      <td>0.486364</td>\n",
       "    </tr>\n",
       "  </tbody>\n",
       "</table>\n",
       "</div>"
      ],
      "text/plain": [
       "       loss  accuracy  val_loss  val_accuracy\n",
       "0  1.379264  0.271642  1.377903      0.230303\n",
       "1  1.370111  0.267164  1.370713      0.277273\n",
       "2  1.359130  0.278358  1.358236      0.372727\n",
       "3  1.344459  0.311940  1.326196      0.375758\n",
       "4  1.309090  0.338806  1.278592      0.486364"
      ]
     },
     "execution_count": 148,
     "metadata": {},
     "output_type": "execute_result"
    }
   ],
   "source": [
    "loss_df.head()"
   ]
  },
  {
   "cell_type": "code",
   "execution_count": 149,
   "id": "3747e5e7-b5a2-4684-847a-f86e40a01104",
   "metadata": {},
   "outputs": [
    {
     "data": {
      "text/plain": [
       "<AxesSubplot:>"
      ]
     },
     "execution_count": 149,
     "metadata": {},
     "output_type": "execute_result"
    },
    {
     "data": {
      "image/png": "[encoded data removed]",
      "text/plain": [
       "<Figure size 432x288 with 1 Axes>"
      ]
     },
     "metadata": {
      "needs_background": "light"
     },
     "output_type": "display_data"
    }
   ],
   "source": [
    "loss_df[['loss','val_loss']].plot()"
   ]
  },
  {
   "cell_type": "code",
   "execution_count": 150,
   "id": "f05611f4-9129-4487-b0f5-c956e289d2d0",
   "metadata": {},
   "outputs": [
    {
     "data": {
      "text/plain": [
       "<AxesSubplot:>"
      ]
     },
     "execution_count": 150,
     "metadata": {},
     "output_type": "execute_result"
    },
    {
     "data": {
      "image/png": "[encoded data removed]",
      "text/plain": [
       "<Figure size 432x288 with 1 Axes>"
      ]
     },
     "metadata": {
      "needs_background": "light"
     },
     "output_type": "display_data"
    }
   ],
   "source": [
    "loss_df[['accuracy','val_accuracy']].plot()"
   ]
  },
  {
   "cell_type": "code",
   "execution_count": 151,
   "id": "120f07c9-50fa-4d57-80c0-89a9211ed4c1",
   "metadata": {},
   "outputs": [
    {
     "data": {
      "text/plain": [
       "<BarContainer object of 6 artists>"
      ]
     },
     "execution_count": 151,
     "metadata": {},
     "output_type": "execute_result"
    },
    {
     "data": {
      "image/png": "[encoded data removed]",
      "text/plain": [
       "<Figure size 864x360 with 1 Axes>"
      ]
     },
     "metadata": {
      "needs_background": "light"
     },
     "output_type": "display_data"
    }
   ],
   "source": [
    "plt.figure(figsize=(12,5))\n",
    "plt.bar(x=accuracy.keys(),height=accuracy.values())"
   ]
  },
  {
   "cell_type": "code",
   "execution_count": 152,
   "id": "de1f1fff-fa78-4b95-82f0-6875f553e8d7",
   "metadata": {},
   "outputs": [],
   "source": [
    "finalSVC=SVC()"
   ]
  },
  {
   "cell_type": "code",
   "execution_count": 153,
   "id": "f0611b31-fba7-40c3-8e66-0bc640a0de6e",
   "metadata": {},
   "outputs": [
    {
     "data": {
      "text/plain": [
       "SVC()"
      ]
     },
     "execution_count": 153,
     "metadata": {},
     "output_type": "execute_result"
    }
   ],
   "source": [
    "finalSVC.fit(x,y)"
   ]
  },
  {
   "cell_type": "code",
   "execution_count": 154,
   "id": "348bf86c-24d4-44e9-9d41-7fd1f99bceeb",
   "metadata": {},
   "outputs": [],
   "source": [
    "import pickle\n",
    "\n",
    "pickle.dump(finalSVC,open('model.pkl','wb'))"
   ]
  },
  {
   "cell_type": "code",
   "execution_count": 155,
   "id": "327ca1b1-4c5e-4ac4-8425-85bc3f4e2760",
   "metadata": {},
   "outputs": [],
   "source": [
    "loaded_model=pickle.load(open('model.pkl','rb'))"
   ]
  },
  {
   "cell_type": "code",
   "execution_count": 159,
   "id": "7cd297c1-d985-449f-b201-2272653fff45",
   "metadata": {},
   "outputs": [
    {
     "data": {
      "text/plain": [
       "array([2], dtype=int64)"
      ]
     },
     "execution_count": 159,
     "metadata": {},
     "output_type": "execute_result"
    }
   ],
   "source": [
    "loaded_model.predict([[1000,50,2500]])"
   ]
  },
  {
   "cell_type": "code",
   "execution_count": 161,
   "id": "17d173fe-8211-4721-9c48-4c3c4a87dde8",
   "metadata": {},
   "outputs": [
    {
     "data": {
      "text/plain": [
       "array([1, 2, 3, 0], dtype=int64)"
      ]
     },
     "execution_count": 161,
     "metadata": {},
     "output_type": "execute_result"
    }
   ],
   "source": [
    "df['price_range'].unique()"
   ]
  },
  {
   "cell_type": "code",
   "execution_count": 164,
   "id": "6747850c-d5de-49d9-8e7a-0fb5ab3fb457",
   "metadata": {},
   "outputs": [
    {
     "ename": "AttributeError",
     "evalue": "predict_proba is not available when  probability=False",
     "output_type": "error",
     "traceback": [
      "\u001b[1;31m---------------------------------------------------------------------------\u001b[0m",
      "\u001b[1;31mAttributeError\u001b[0m                            Traceback (most recent call last)",
      "\u001b[1;32m~\\AppData\\Local\\Temp/ipykernel_17788/20050006.py\u001b[0m in \u001b[0;36m<module>\u001b[1;34m\u001b[0m\n\u001b[1;32m----> 1\u001b[1;33m \u001b[0mloaded_model\u001b[0m\u001b[1;33m.\u001b[0m\u001b[0mpredict_proba\u001b[0m\u001b[1;33m(\u001b[0m\u001b[1;33m[\u001b[0m\u001b[1;33m[\u001b[0m\u001b[1;36m1000\u001b[0m\u001b[1;33m,\u001b[0m\u001b[1;36m50\u001b[0m\u001b[1;33m,\u001b[0m\u001b[1;36m2500\u001b[0m\u001b[1;33m]\u001b[0m\u001b[1;33m]\u001b[0m\u001b[1;33m)\u001b[0m\u001b[1;33m\u001b[0m\u001b[1;33m\u001b[0m\u001b[0m\n\u001b[0m",
      "\u001b[1;32m~\\Anaconda3\\lib\\site-packages\\sklearn\\svm\\_base.py\u001b[0m in \u001b[0;36mpredict_proba\u001b[1;34m(self)\u001b[0m\n\u001b[0;32m    664\u001b[0m         \u001b[0mdatasets\u001b[0m\u001b[1;33m.\u001b[0m\u001b[1;33m\u001b[0m\u001b[1;33m\u001b[0m\u001b[0m\n\u001b[0;32m    665\u001b[0m         \"\"\"\n\u001b[1;32m--> 666\u001b[1;33m         \u001b[0mself\u001b[0m\u001b[1;33m.\u001b[0m\u001b[0m_check_proba\u001b[0m\u001b[1;33m(\u001b[0m\u001b[1;33m)\u001b[0m\u001b[1;33m\u001b[0m\u001b[1;33m\u001b[0m\u001b[0m\n\u001b[0m\u001b[0;32m    667\u001b[0m         \u001b[1;32mreturn\u001b[0m \u001b[0mself\u001b[0m\u001b[1;33m.\u001b[0m\u001b[0m_predict_proba\u001b[0m\u001b[1;33m\u001b[0m\u001b[1;33m\u001b[0m\u001b[0m\n\u001b[0;32m    668\u001b[0m \u001b[1;33m\u001b[0m\u001b[0m\n",
      "\u001b[1;32m~\\Anaconda3\\lib\\site-packages\\sklearn\\svm\\_base.py\u001b[0m in \u001b[0;36m_check_proba\u001b[1;34m(self)\u001b[0m\n\u001b[0;32m    631\u001b[0m     \u001b[1;32mdef\u001b[0m \u001b[0m_check_proba\u001b[0m\u001b[1;33m(\u001b[0m\u001b[0mself\u001b[0m\u001b[1;33m)\u001b[0m\u001b[1;33m:\u001b[0m\u001b[1;33m\u001b[0m\u001b[1;33m\u001b[0m\u001b[0m\n\u001b[0;32m    632\u001b[0m         \u001b[1;32mif\u001b[0m \u001b[1;32mnot\u001b[0m \u001b[0mself\u001b[0m\u001b[1;33m.\u001b[0m\u001b[0mprobability\u001b[0m\u001b[1;33m:\u001b[0m\u001b[1;33m\u001b[0m\u001b[1;33m\u001b[0m\u001b[0m\n\u001b[1;32m--> 633\u001b[1;33m             raise AttributeError(\"predict_proba is not available when \"\n\u001b[0m\u001b[0;32m    634\u001b[0m                                  \" probability=False\")\n\u001b[0;32m    635\u001b[0m         \u001b[1;32mif\u001b[0m \u001b[0mself\u001b[0m\u001b[1;33m.\u001b[0m\u001b[0m_impl\u001b[0m \u001b[1;32mnot\u001b[0m \u001b[1;32min\u001b[0m \u001b[1;33m(\u001b[0m\u001b[1;34m'c_svc'\u001b[0m\u001b[1;33m,\u001b[0m \u001b[1;34m'nu_svc'\u001b[0m\u001b[1;33m)\u001b[0m\u001b[1;33m:\u001b[0m\u001b[1;33m\u001b[0m\u001b[1;33m\u001b[0m\u001b[0m\n",
      "\u001b[1;31mAttributeError\u001b[0m: predict_proba is not available when  probability=False"
     ]
    }
   ],
   "source": [
    "loaded_model.predict_proba([[1000,50,2500]])"
   ]
  },
  {
   "cell_type": "code",
   "execution_count": null,
   "id": "f28f9013-2066-4a8f-829f-45e40744fe5d",
   "metadata": {},
   "outputs": [],
   "source": []
  }
 ],
 "metadata": {
  "kernelspec": {
   "display_name": "Python 3 (ipykernel)",
   "language": "python",
   "name": "python3"
  },
  "language_info": {
   "codemirror_mode": {
    "name": "ipython",
    "version": 3
   },
   "file_extension": ".py",
   "mimetype": "text/x-python",
   "name": "python",
   "nbconvert_exporter": "python",
   "pygments_lexer": "ipython3",
   "version": "3.9.7"
  }
 },
 "nbformat": 4,
 "nbformat_minor": 5
}
